{
 "cells": [
  {
   "cell_type": "code",
   "execution_count": 323,
   "id": "1bec2e4b",
   "metadata": {},
   "outputs": [],
   "source": [
    "%matplotlib inline\n",
    "import matplotlib.pyplot as plt\n",
    "from matplotlib.font_manager import FontProperties\n",
    "\n",
    "# 设置中文字体\n",
    "plt.rcParams['font.sans-serif'] = ['Arial Unicode MS']  # 例如使用 'Arial Unicode MS'\n",
    "plt.rcParams['axes.unicode_minus'] = False  # 正确显示负号\n",
    "\n",
    "import warnings\n",
    "warnings.filterwarnings('ignore')"
   ]
  },
  {
   "cell_type": "code",
   "execution_count": 89,
   "id": "b822e585",
   "metadata": {},
   "outputs": [],
   "source": [
    "import numpy as np\n",
    "from matplotlib import pyplot as plt\n",
    "import pandas as pd\n",
    "from pypeit.specutils import SpectrumList\n",
    "from scipy.interpolate import interp1d \n",
    "from astropy.io import ascii\n",
    "from astropy.io import fits\n",
    "from astropy.table import Table\n",
    "import requests\n",
    "from bs4 import BeautifulSoup\n",
    "import os\n",
    "import astropy.units as u\n",
    "from specutils import Spectrum1D\n",
    "from specutils.manipulation import FluxConservingResampler\n",
    "from specutils.manipulation import LinearInterpolatedResampler\n",
    "from specutils.manipulation import gaussian_smooth\n",
    "from lmfit import Model, minimize, Parameters, create_params\n",
    "from dust_extinction.parameter_averages import F99\n",
    "from IPython.display import display, clear_output\n",
    "from tqdm import tqdm\n",
    "from statsmodels.nonparametric.smoothers_lowess import lowess\n",
    "import math\n",
    "from specutils.analysis import snr"
   ]
  },
  {
   "cell_type": "markdown",
   "id": "2825cd67",
   "metadata": {},
   "source": [
    "## dat input file"
   ]
  },
  {
   "cell_type": "markdown",
   "id": "01f7d502",
   "metadata": {},
   "source": [
    "### transfer list file"
   ]
  },
  {
   "cell_type": "code",
   "execution_count": 480,
   "id": "145bf071",
   "metadata": {},
   "outputs": [
    {
     "data": {
      "text/html": [
       "<div><i>Table length=3</i>\n",
       "<table id=\"table14157949200\" class=\"table-striped table-bordered table-condensed\">\n",
       "<thead><tr><th>root_name</th><th>ECH</th><th>XDAng</th><th>order_at_wave_min</th><th>order_at_wave_central</th><th>order_at_wave_max</th><th>wave_min</th><th>wave_central</th><th>wave_max</th></tr></thead>\n",
       "<thead><tr><th>str7</th><th>float64</th><th>float64</th><th>int64</th><th>int64</th><th>int64</th><th>float64</th><th>float64</th><th>float64</th></tr></thead>\n",
       "<tr><td>adrd-01</td><td>0.0</td><td>-0.672</td><td>97</td><td>78</td><td>59</td><td>3674.6933</td><td>4569.6701</td><td>6040.9212</td></tr>\n",
       "<tr><td>adrd-02</td><td>-0.2</td><td>-0.672</td><td>97</td><td>78</td><td>59</td><td>3670.1303</td><td>4563.9933</td><td>6033.4147</td></tr>\n",
       "<tr><td>adrd-03</td><td>0.1999</td><td>-0.672</td><td>96</td><td>77</td><td>59</td><td>3717.5289</td><td>4634.696</td><td>6048.3486</td></tr>\n",
       "</table></div>"
      ],
      "text/plain": [
       "<Table length=3>\n",
       "root_name   ECH    XDAng  ...  wave_min wave_central  wave_max\n",
       "   str7   float64 float64 ...  float64    float64     float64 \n",
       "--------- ------- ------- ... --------- ------------ ---------\n",
       "  adrd-01     0.0  -0.672 ... 3674.6933    4569.6701 6040.9212\n",
       "  adrd-02    -0.2  -0.672 ... 3670.1303    4563.9933 6033.4147\n",
       "  adrd-03  0.1999  -0.672 ... 3717.5289     4634.696 6048.3486"
      ]
     },
     "execution_count": 480,
     "metadata": {},
     "output_type": "execute_result"
    }
   ],
   "source": [
    "adrd_list_file = '/Users/yaqi/packages/IDL/xidl-jt/Keck/HIRES/Redux/pro/Arcs/Templates/adrd_translate.list'\n",
    "adrd_list = ascii.read(adrd_list_file,names=['root_name','ECH','XDAng','order_at_wave_min','order_at_wave_central','order_at_wave_max','wave_min','wave_central','wave_max'])\n",
    "adrd_list[0:3]"
   ]
  },
  {
   "cell_type": "code",
   "execution_count": 481,
   "id": "29d94a3a",
   "metadata": {},
   "outputs": [
    {
     "data": {
      "text/html": [
       "<div><i>Table length=3</i>\n",
       "<table id=\"table11089926352\" class=\"table-striped table-bordered table-condensed\">\n",
       "<thead><tr><th>root_name</th><th>ECH</th><th>XDAng</th><th>order_at_wave_min</th><th>order_at_wave_central</th><th>order_at_wave_max</th><th>wave_min</th><th>wave_central</th><th>wave_max</th></tr></thead>\n",
       "<thead><tr><th>str9</th><th>float64</th><th>float64</th><th>int64</th><th>int64</th><th>int64</th><th>float64</th><th>float64</th><th>float64</th></tr></thead>\n",
       "<tr><td>adrd97-01</td><td>0.2201</td><td>-0.576</td><td>94</td><td>76</td><td>58</td><td>3797.7947</td><td>4697.1241</td><td>6154.5113</td></tr>\n",
       "<tr><td>adrd97-02</td><td>0.2201</td><td>-0.576</td><td>94</td><td>76</td><td>58</td><td>3797.7947</td><td>4697.1241</td><td>6154.5113</td></tr>\n",
       "<tr><td>adrd97-03</td><td>-0.22</td><td>-0.5855</td><td>94</td><td>76</td><td>58</td><td>3787.4752</td><td>4684.3641</td><td>6137.7834</td></tr>\n",
       "</table></div>"
      ],
      "text/plain": [
       "<Table length=3>\n",
       "root_name   ECH    XDAng  ...  wave_min wave_central  wave_max\n",
       "   str9   float64 float64 ...  float64    float64     float64 \n",
       "--------- ------- ------- ... --------- ------------ ---------\n",
       "adrd97-01  0.2201  -0.576 ... 3797.7947    4697.1241 6154.5113\n",
       "adrd97-02  0.2201  -0.576 ... 3797.7947    4697.1241 6154.5113\n",
       "adrd97-03   -0.22 -0.5855 ... 3787.4752    4684.3641 6137.7834"
      ]
     },
     "execution_count": 481,
     "metadata": {},
     "output_type": "execute_result"
    }
   ],
   "source": [
    "adrd97_list_file = '/Users/yaqi/packages/IDL/xidl-jt/Keck/HIRES/Redux/pro/Arcs/Templates/adrd97_translate.list'\n",
    "adrd97_list = ascii.read(adrd97_list_file,names=['root_name','ECH','XDAng','order_at_wave_min','order_at_wave_central','order_at_wave_max','wave_min','wave_central','wave_max'])\n",
    "adrd97_list[0:3]"
   ]
  },
  {
   "cell_type": "code",
   "execution_count": 482,
   "id": "2d6c5dfc",
   "metadata": {},
   "outputs": [
    {
     "data": {
      "text/html": [
       "<div><i>Table length=3</i>\n",
       "<table id=\"table11094503824\" class=\"table-striped table-bordered table-condensed\">\n",
       "<thead><tr><th>root_name</th><th>ECH</th><th>XDAng</th><th>order_at_wave_min</th><th>order_at_wave_central</th><th>order_at_wave_max</th><th>wave_min</th><th>wave_central</th><th>wave_max</th></tr></thead>\n",
       "<thead><tr><th>str7</th><th>float64</th><th>float64</th><th>int64</th><th>int64</th><th>int64</th><th>float64</th><th>float64</th><th>float64</th></tr></thead>\n",
       "<tr><td>aduv-01</td><td>0.0</td><td>1.72</td><td>84</td><td>73</td><td>62</td><td>4243.1207</td><td>4882.2064</td><td>5747.9236</td></tr>\n",
       "<tr><td>aduv-02</td><td>-0.2</td><td>1.72</td><td>84</td><td>73</td><td>62</td><td>4237.838</td><td>4876.1277</td><td>5740.7612</td></tr>\n",
       "<tr><td>aduv-03</td><td>0.1999</td><td>1.72</td><td>84</td><td>73</td><td>62</td><td>4248.3486</td><td>4888.2232</td><td>5755.0114</td></tr>\n",
       "</table></div>"
      ],
      "text/plain": [
       "<Table length=3>\n",
       "root_name   ECH    XDAng  ...  wave_min wave_central  wave_max\n",
       "   str7   float64 float64 ...  float64    float64     float64 \n",
       "--------- ------- ------- ... --------- ------------ ---------\n",
       "  aduv-01     0.0    1.72 ... 4243.1207    4882.2064 5747.9236\n",
       "  aduv-02    -0.2    1.72 ...  4237.838    4876.1277 5740.7612\n",
       "  aduv-03  0.1999    1.72 ... 4248.3486    4888.2232 5755.0114"
      ]
     },
     "execution_count": 482,
     "metadata": {},
     "output_type": "execute_result"
    }
   ],
   "source": [
    "aduv_list_file = '/Users/yaqi/packages/IDL/xidl-jt/Keck/HIRES/Redux/pro/Arcs/Templates/aduv_translate.list'\n",
    "aduv_list = ascii.read(aduv_list_file,names=['root_name','ECH','XDAng','order_at_wave_min','order_at_wave_central','order_at_wave_max','wave_min','wave_central','wave_max'])\n",
    "aduv_list[0:3]"
   ]
  },
  {
   "cell_type": "markdown",
   "id": "14694c90",
   "metadata": {},
   "source": [
    "### generate dat list file"
   ]
  },
  {
   "cell_type": "code",
   "execution_count": 450,
   "id": "d10131fa",
   "metadata": {},
   "outputs": [],
   "source": [
    "basename = \"/Users/yaqi/Desktop/pypeit_HIRES_orig/makee-oct00/ArcLineDataBase/\"\n",
    "outname = '/Users/yaqi/Desktop/pypeit_HIRES_orig/hires_orig_templ_xidl.dat'\n",
    "\n",
    "transfer_list = [adrd_list,adrd97_list,aduv_list]\n",
    "XDISP_list = ['RED','RED97','UV']\n",
    "\n",
    "with open(outname, 'w') as file:\n",
    "    file.write('Name                 Chip  XDISP  ECH   XDAng   Deck  Rbin  Cbin   IOrder EOrder\\n')\n",
    "    for n_list in range(3): \n",
    "        i_list = transfer_list[n_list]\n",
    "        XDISP = XDISP_list[n_list]\n",
    "        for i in range(len(i_list)):\n",
    "            i_file = os.path.join(basename,i_list[i]['root_name']+'.fits')\n",
    "            file_header = fits.open(i_file)[0].header\n",
    "            i_string = f\"{i_list[i]['root_name']+'_template.idl':<25}\"+\" \"+\"1\"+\" \"+XDISP+' '+f\"{i_list[i]['ECH']: .3f}\"+' '+f\"{i_list[i]['XDAng']: .4f}\"+\" \"+file_header['Deckname']+\" \"+file_header['Binning'][0]+\" \"+file_header['Binning'][2]+\" \"+str(i_list[i]['order_at_wave_max'])+\" \"+str(i_list[i]['order_at_wave_min'])+'\\n'\n",
    "            file.write(i_string)"
   ]
  },
  {
   "cell_type": "code",
   "execution_count": 451,
   "id": "11f7327c",
   "metadata": {
    "scrolled": false
   },
   "outputs": [
    {
     "data": {
      "text/html": [
       "<div><i>Table length=181</i>\n",
       "<table id=\"table14278194320\" class=\"table-striped table-bordered table-condensed\">\n",
       "<thead><tr><th>Name</th><th>Chip</th><th>XDISP</th><th>ECH</th><th>XDAng</th><th>Deck</th><th>Rbin</th><th>Cbin</th><th>IOrder</th><th>EOrder</th></tr></thead>\n",
       "<thead><tr><th>str22</th><th>int64</th><th>str5</th><th>float64</th><th>float64</th><th>str3</th><th>int64</th><th>int64</th><th>int64</th><th>int64</th></tr></thead>\n",
       "<tr><td>adrd-01_template.idl</td><td>1</td><td>RED</td><td>0.0</td><td>-0.672</td><td>C1</td><td>1</td><td>2</td><td>59</td><td>97</td></tr>\n",
       "<tr><td>adrd-02_template.idl</td><td>1</td><td>RED</td><td>-0.2</td><td>-0.672</td><td>C1</td><td>1</td><td>2</td><td>59</td><td>97</td></tr>\n",
       "<tr><td>adrd-03_template.idl</td><td>1</td><td>RED</td><td>0.2</td><td>-0.672</td><td>C1</td><td>1</td><td>2</td><td>59</td><td>96</td></tr>\n",
       "<tr><td>adrd-04_template.idl</td><td>1</td><td>RED</td><td>0.0</td><td>-0.5195</td><td>C1</td><td>1</td><td>2</td><td>57</td><td>92</td></tr>\n",
       "<tr><td>adrd-05_template.idl</td><td>1</td><td>RED</td><td>-0.2</td><td>-0.5195</td><td>C1</td><td>1</td><td>2</td><td>57</td><td>92</td></tr>\n",
       "<tr><td>adrd-06_template.idl</td><td>1</td><td>RED</td><td>0.2</td><td>-0.5195</td><td>C1</td><td>1</td><td>2</td><td>57</td><td>93</td></tr>\n",
       "<tr><td>...</td><td>...</td><td>...</td><td>...</td><td>...</td><td>...</td><td>...</td><td>...</td><td>...</td><td>...</td></tr>\n",
       "<tr><td>aduv-19_template.idl</td><td>1</td><td>UV</td><td>0.2</td><td>0.8295</td><td>C1</td><td>1</td><td>2</td><td>71</td><td>102</td></tr>\n",
       "<tr><td>aduv-20_template.idl</td><td>1</td><td>UV</td><td>0.0</td><td>0.589</td><td>C1</td><td>1</td><td>2</td><td>74</td><td>108</td></tr>\n",
       "<tr><td>aduv-21_template.idl</td><td>1</td><td>UV</td><td>-0.2</td><td>0.589</td><td>C1</td><td>1</td><td>2</td><td>74</td><td>107</td></tr>\n",
       "<tr><td>aduv-22_template.idl</td><td>1</td><td>UV</td><td>0.2</td><td>0.589</td><td>C1</td><td>1</td><td>2</td><td>74</td><td>108</td></tr>\n",
       "<tr><td>aduv-23_template.idl</td><td>1</td><td>UV</td><td>0.0</td><td>0.3705</td><td>C1</td><td>1</td><td>2</td><td>77</td><td>111</td></tr>\n",
       "<tr><td>aduv-24_template.idl</td><td>1</td><td>UV</td><td>0.0</td><td>0.3705</td><td>C1</td><td>1</td><td>2</td><td>77</td><td>111</td></tr>\n",
       "<tr><td>aduv-25_template.idl</td><td>1</td><td>UV</td><td>0.0</td><td>0.3705</td><td>C1</td><td>1</td><td>2</td><td>77</td><td>111</td></tr>\n",
       "</table></div>"
      ],
      "text/plain": [
       "<Table length=181>\n",
       "        Name          Chip XDISP   ECH    XDAng  Deck  Rbin  Cbin IOrder EOrder\n",
       "       str22         int64  str5 float64 float64 str3 int64 int64 int64  int64 \n",
       "-------------------- ----- ----- ------- ------- ---- ----- ----- ------ ------\n",
       "adrd-01_template.idl     1   RED     0.0  -0.672   C1     1     2     59     97\n",
       "adrd-02_template.idl     1   RED    -0.2  -0.672   C1     1     2     59     97\n",
       "adrd-03_template.idl     1   RED     0.2  -0.672   C1     1     2     59     96\n",
       "adrd-04_template.idl     1   RED     0.0 -0.5195   C1     1     2     57     92\n",
       "adrd-05_template.idl     1   RED    -0.2 -0.5195   C1     1     2     57     92\n",
       "adrd-06_template.idl     1   RED     0.2 -0.5195   C1     1     2     57     93\n",
       "                 ...   ...   ...     ...     ...  ...   ...   ...    ...    ...\n",
       "aduv-19_template.idl     1    UV     0.2  0.8295   C1     1     2     71    102\n",
       "aduv-20_template.idl     1    UV     0.0   0.589   C1     1     2     74    108\n",
       "aduv-21_template.idl     1    UV    -0.2   0.589   C1     1     2     74    107\n",
       "aduv-22_template.idl     1    UV     0.2   0.589   C1     1     2     74    108\n",
       "aduv-23_template.idl     1    UV     0.0  0.3705   C1     1     2     77    111\n",
       "aduv-24_template.idl     1    UV     0.0  0.3705   C1     1     2     77    111\n",
       "aduv-25_template.idl     1    UV     0.0  0.3705   C1     1     2     77    111"
      ]
     },
     "execution_count": 451,
     "metadata": {},
     "output_type": "execute_result"
    }
   ],
   "source": [
    "ascii.read(outname)"
   ]
  },
  {
   "cell_type": "markdown",
   "id": "fea86bef",
   "metadata": {},
   "source": [
    "## check template"
   ]
  },
  {
   "cell_type": "code",
   "execution_count": 271,
   "id": "21426e04",
   "metadata": {},
   "outputs": [],
   "source": [
    "from pypeit.core.wavecal import templates\n",
    "from scipy.io import readsav"
   ]
  },
  {
   "cell_type": "code",
   "execution_count": 457,
   "id": "e70b31c6",
   "metadata": {},
   "outputs": [],
   "source": [
    "def flegend(xnrm,order):\n",
    "    leg = np.zeros((len(xnrm),order))\n",
    "    leg[:,0] = 1.\n",
    "    if order >= 2:\n",
    "        leg[:,1] = xnrm\n",
    "    # For loop\n",
    "    for j in range(2,order):\n",
    "        leg[:,j] = (2.0*j-1)/(j-1) * xnrm * leg[:,j-1] - (j-1)/j*leg[:,j-2]\n",
    "    # Return\n",
    "    return leg\n",
    "\n",
    "def legend_val(coeff, x, nrm, order):\n",
    "    #\n",
    "    xnrm = 2. * (x - nrm[0])/nrm[1]\n",
    "    # Matrix first\n",
    "    leg = flegend(xnrm, order)\n",
    "    # Dot\n",
    "    return np.dot(leg, coeff)"
   ]
  },
  {
   "cell_type": "code",
   "execution_count": 485,
   "id": "dcba9eb3",
   "metadata": {
    "scrolled": false
   },
   "outputs": [
    {
     "name": "stdout",
     "output_type": "stream",
     "text": [
      "[59 60 61 62 63 64 65 66 67 68 69 70 71 72 73 74 75 76 77 78 79 80 81 82\n",
      " 83 84 85 86 87 88 89 90 91 92 93 94 95 96 97] \n",
      "\n",
      "39 \n",
      "\n",
      "2048 \n",
      "\n"
     ]
    },
    {
     "data": {
      "image/png": "[encoded data removed]",
      "text/plain": [
       "<Figure size 640x480 with 1 Axes>"
      ]
     },
     "metadata": {},
     "output_type": "display_data"
    }
   ],
   "source": [
    "xidl_file = '/Users/yaqi/Desktop/pypeit_HIRES_orig/MAKEE/adrd-01_template.idl'\n",
    "\n",
    "xidl_dict = readsav(xidl_file)\n",
    "order_vec = xidl_dict['guess_ordr']\n",
    "print(order_vec,'\\n')\n",
    "norders = order_vec.size\n",
    "print(norders,'\\n')\n",
    "nspec = xidl_dict['sv_aspec'].shape[1]\n",
    "print(nspec,'\\n')\n",
    "calib = xidl_dict['all_arcfit']\n",
    "Table(calib[0:3])\n",
    "\n",
    "for kk in range(norders):\n",
    "    che_list = legend_val(calib['FFIT'][kk], np.arange(nspec), calib['NRM'][kk],calib['NORD'][kk])\n",
    "    plt.plot(np.power(10,che_list),color=(1-kk/norders,0,kk/norders))"
   ]
  },
  {
   "cell_type": "code",
   "execution_count": 456,
   "id": "f4417902",
   "metadata": {
    "scrolled": false
   },
   "outputs": [],
   "source": [
    "# transfer_list = [adrd_list,adrd97_list,aduv_list]\n",
    "# XDISP_list = ['RED','RED97','UV']\n",
    "\n",
    "# for n_list in range(3): \n",
    "#     i_list = transfer_list[n_list]\n",
    "#     XDISP = XDISP_list[n_list]\n",
    "#     for i in range(len(i_list)):\n",
    "#         i_file = os.path.join(basename,i_list[i]['root_name']+'_template.idl')\n",
    "#         xidl_dict = readsav(xidl_file)\n",
    "#         norders = order_vec.size\n",
    "#         nspec = xidl_dict['sv_aspec'].shape[1]\n",
    "#         calib = xidl_dict['all_arcfit']\n",
    "        \n",
    "#         for kk in range(norders):\n",
    "#             che_list = legend_val(calib['FFIT'][kk], np.arange(nspec), calib['NRM'][kk],calib['NORD'][kk])\n",
    "#             plt.plot(che_list,color=(1-kk/norders,0,kk/norders))\n",
    "\n",
    "#         plt.title(i_list[i]['root_name']+'_template')\n",
    "#         plt.savefig(i_list[i]['root_name']+'_template.pdf')"
   ]
  },
  {
   "cell_type": "markdown",
   "id": "f1ef0d78",
   "metadata": {},
   "source": [
    "## check arxiv_file"
   ]
  },
  {
   "cell_type": "code",
   "execution_count": 463,
   "id": "1943602c",
   "metadata": {},
   "outputs": [],
   "source": [
    "arxiv_file = '/Users/yaqi/Desktop/pypeit_HIRES_orig/generated_orig/hires_wvcalib_xidl.fits'"
   ]
  },
  {
   "cell_type": "code",
   "execution_count": 479,
   "id": "476e4b28",
   "metadata": {},
   "outputs": [
    {
     "data": {
      "text/html": [
       "<div><i>Table length=3</i>\n",
       "<table id=\"table11091264016\" class=\"table-striped table-bordered table-condensed\">\n",
       "<thead><tr><th>filename</th><th>nsolns</th><th>nsolns_good</th><th>bluest_order</th><th>bluest_good_order</th><th>reddest_order</th><th>reddest_good_order</th><th>xdisp_file</th><th>ech_angle_file</th><th>xd_angle_file</th><th>det_file</th><th>order</th><th>populated</th><th>populated_and_good</th><th>ech_angle</th><th>xd_angle</th><th>xdisp</th><th>det</th><th>binspec</th><th>lambda_cen</th><th>coeff</th><th>wave</th><th>arcspec</th></tr></thead>\n",
       "<thead><tr><th>bytes30</th><th>int64</th><th>int64</th><th>int64</th><th>int64</th><th>int64</th><th>int64</th><th>bytes5</th><th>float64</th><th>float64</th><th>int64</th><th>int64[73]</th><th>bool[73]</th><th>bool[73]</th><th>float64[73]</th><th>float64[73]</th><th>bytes5[73]</th><th>int64[73]</th><th>int64[73]</th><th>float64[73]</th><th>float64[73,5]</th><th>float64[73,2048]</th><th>float64[73,2048]</th></tr></thead>\n",
       "<tr><td>adrd-01_template.idl</td><td>39</td><td>39</td><td>97</td><td>97</td><td>59</td><td>59</td><td>RED</td><td>0.0</td><td>-0.672</td><td>1</td><td>0 .. 0</td><td>False .. False</td><td>False .. False</td><td>-10000000000.0 .. -10000000000.0</td><td>-10000000000.0 .. -10000000000.0</td><td>-- .. --</td><td>0 .. 0</td><td>0 .. 0</td><td>0.0 .. 0.0</td><td>0.0 .. 0.0</td><td>0.0 .. 0.0</td><td>0.0 .. 0.0</td></tr>\n",
       "<tr><td>adrd-02_template.idl</td><td>39</td><td>39</td><td>97</td><td>97</td><td>59</td><td>59</td><td>RED</td><td>-0.2</td><td>-0.672</td><td>1</td><td>0 .. 0</td><td>False .. False</td><td>False .. False</td><td>-10000000000.0 .. -10000000000.0</td><td>-10000000000.0 .. -10000000000.0</td><td>-- .. --</td><td>0 .. 0</td><td>0 .. 0</td><td>0.0 .. 0.0</td><td>0.0 .. 0.0</td><td>0.0 .. 0.0</td><td>0.0 .. 0.0</td></tr>\n",
       "<tr><td>adrd-03_template.idl</td><td>38</td><td>38</td><td>96</td><td>96</td><td>59</td><td>59</td><td>RED</td><td>0.2</td><td>-0.672</td><td>1</td><td>0 .. 0</td><td>False .. False</td><td>False .. False</td><td>-10000000000.0 .. -10000000000.0</td><td>-10000000000.0 .. -10000000000.0</td><td>-- .. --</td><td>0 .. 0</td><td>0 .. 0</td><td>0.0 .. 0.0</td><td>0.0 .. 0.0</td><td>0.0 .. 0.0</td><td>0.0 .. 0.0</td></tr>\n",
       "</table></div>"
      ],
      "text/plain": [
       "<Table length=3>\n",
       "      filename       nsolns nsolns_good ...       wave           arcspec     \n",
       "      bytes30        int64     int64    ... float64[73,2048] float64[73,2048]\n",
       "-------------------- ------ ----------- ... ---------------- ----------------\n",
       "adrd-01_template.idl     39          39 ...       0.0 .. 0.0       0.0 .. 0.0\n",
       "adrd-02_template.idl     39          39 ...       0.0 .. 0.0       0.0 .. 0.0\n",
       "adrd-03_template.idl     38          38 ...       0.0 .. 0.0       0.0 .. 0.0"
      ]
     },
     "execution_count": 479,
     "metadata": {},
     "output_type": "execute_result"
    }
   ],
   "source": [
    "arxiv = Table.read(arxiv_file, hdu=2)\n",
    "arxiv[0:3]"
   ]
  },
  {
   "cell_type": "code",
   "execution_count": 475,
   "id": "71cb4fcd",
   "metadata": {},
   "outputs": [
    {
     "data": {
      "text/plain": [
       "25"
      ]
     },
     "execution_count": 475,
     "metadata": {},
     "output_type": "execute_result"
    }
   ],
   "source": [
    "len(np.where(arxiv['xdisp_file']=='UV')[0])"
   ]
  },
  {
   "cell_type": "code",
   "execution_count": 476,
   "id": "ea44be19",
   "metadata": {},
   "outputs": [
    {
     "data": {
      "text/plain": [
       "80"
      ]
     },
     "execution_count": 476,
     "metadata": {},
     "output_type": "execute_result"
    }
   ],
   "source": [
    "len(np.where(arxiv['xdisp_file']=='RED')[0])"
   ]
  },
  {
   "cell_type": "code",
   "execution_count": 477,
   "id": "1acd85fe",
   "metadata": {},
   "outputs": [
    {
     "data": {
      "text/plain": [
       "76"
      ]
     },
     "execution_count": 477,
     "metadata": {},
     "output_type": "execute_result"
    }
   ],
   "source": [
    "len(np.where(arxiv['xdisp_file']=='RED97')[0])"
   ]
  }
 ],
 "metadata": {
  "kernelspec": {
   "display_name": "Python 3 (ipykernel)",
   "language": "python",
   "name": "python3"
  },
  "language_info": {
   "codemirror_mode": {
    "name": "ipython",
    "version": 3
   },
   "file_extension": ".py",
   "mimetype": "text/x-python",
   "name": "python",
   "nbconvert_exporter": "python",
   "pygments_lexer": "ipython3",
   "version": "3.11.5"
  }
 },
 "nbformat": 4,
 "nbformat_minor": 5
}
